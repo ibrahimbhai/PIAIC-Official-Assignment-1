{
 "cells": [
  {
   "cell_type": "markdown",
   "metadata": {},
   "source": [
    "## 1. Calculate Area of a Circle"
   ]
  },
  {
   "cell_type": "markdown",
   "metadata": {},
   "source": [
    "#### Write a Python program which accepts the radius of a circle from the user and compute the area.\n",
    "###### Program Console Sample Output 1:\n",
    "###### Input Radius: 0.5\n",
    "###### Area of Circle with radius 0.5 is 0.7853981634"
   ]
  },
  {
   "cell_type": "code",
   "execution_count": 1,
   "metadata": {},
   "outputs": [
    {
     "name": "stdout",
     "output_type": "stream",
     "text": [
      "Enter Radius: 7.333\n",
      "Area Of Circle Is:  168.84687146000002  With Radius Of :  7.333\n"
     ]
    }
   ],
   "source": [
    "a=float(input(\"Enter Radius: \"))\n",
    "b=(3.14*(a**2))\n",
    "print(\"Area Of Circle Is: \",b,\" With Radius Of : \",a)"
   ]
  },
  {
   "cell_type": "markdown",
   "metadata": {},
   "source": [
    "## 2. Check Number either positive, negative or zero"
   ]
  },
  {
   "cell_type": "markdown",
   "metadata": {},
   "source": [
    "#### Write a Python program to check if a number is positive, negative or zero\n",
    "###### Program Console Sample Output 1:\n",
    "###### Enter Number: -1\n",
    "##### Negative Number Entered\n",
    "###### Program Console Sample Output 2:\n",
    "##### Integer: 3\n",
    "##### Positive Number Entered\n",
    "###### Program Console Sample Output 3:\n",
    "##### Integer: 0\n",
    "###### Zero Entered"
   ]
  },
  {
   "cell_type": "code",
   "execution_count": 2,
   "metadata": {},
   "outputs": [
    {
     "name": "stdout",
     "output_type": "stream",
     "text": [
      "Enter Any Integer: 8\n",
      "Positive Integer\n"
     ]
    }
   ],
   "source": [
    "a = float(input(\"Enter Any Integer: \"))\n",
    "if a > 0:\n",
    "   print(\"Positive Integer\")\n",
    "elif a< 0:\n",
    "    print(\"Negative Integer\")\n",
    "else:\n",
    "   print(\"Zero Entered\")"
   ]
  },
  {
   "cell_type": "code",
   "execution_count": 3,
   "metadata": {},
   "outputs": [
    {
     "name": "stdout",
     "output_type": "stream",
     "text": [
      "Enter Any Integer: -2\n",
      "Negative Integer\n"
     ]
    }
   ],
   "source": [
    "a = float(input(\"Enter Any Integer: \"))\n",
    "if a > 0:\n",
    "   print(\"Positive Integer\")\n",
    "elif a< 0:\n",
    "    print(\"Negative Integer\")\n",
    "else:\n",
    "   print(\"Zero Entered\")"
   ]
  },
  {
   "cell_type": "code",
   "execution_count": 4,
   "metadata": {},
   "outputs": [
    {
     "name": "stdout",
     "output_type": "stream",
     "text": [
      "Enter Any Integer: 0\n",
      "Zero Entered\n"
     ]
    }
   ],
   "source": [
    "a = float(input(\"Enter Any Integer: \"))\n",
    "if a > 0:\n",
    "   print(\"Positive Integer\")\n",
    "elif a< 0:\n",
    "    print(\"Negative Integer\")\n",
    "else:\n",
    "   print(\"Zero Entered\")"
   ]
  },
  {
   "cell_type": "markdown",
   "metadata": {},
   "source": [
    "## 3. Divisibility Check of two numbers"
   ]
  },
  {
   "cell_type": "markdown",
   "metadata": {},
   "source": [
    "#### Write a Python program to check whether a number is completely divisible by another number. Accept two integer values form the user\n",
    "##### Program Console Sample Output 1:\n",
    "###### Enter numerator: 4\n",
    "###### Enter Denominator: 2\n",
    "##### Number 4 is Completely divisible by 2\n",
    "###### Program Console Sample Output 2:\n",
    "##### Enter numerator: 7\n",
    "\n",
    "##### Enter Denominator: 4\n",
    "###### Number 7 is not Completely divisible by 4"
   ]
  },
  {
   "cell_type": "code",
   "execution_count": 5,
   "metadata": {},
   "outputs": [
    {
     "name": "stdout",
     "output_type": "stream",
     "text": [
      "Enter Numerator:9\n",
      "Enter Denominator:3\n",
      "Number : 9  Is Completely Divisible By :  3\n"
     ]
    }
   ],
   "source": [
    "a= int(input(\"Enter Numerator:\"))\n",
    "b= int(input(\"Enter Denominator:\"))\n",
    "if a%b==0:\n",
    "    print(\"Number :\",a,\" Is Completely Divisible By : \",b)\n",
    "else:\n",
    "    print(\"Number\",a,\" Is Not Completely Divisible By \",b)"
   ]
  },
  {
   "cell_type": "code",
   "execution_count": 6,
   "metadata": {},
   "outputs": [
    {
     "name": "stdout",
     "output_type": "stream",
     "text": [
      "Enter Numerator:8\n",
      "Enter Denominator:3\n",
      "Number 8  Is Not Completely Divisible By  3\n"
     ]
    }
   ],
   "source": [
    "a= int(input(\"Enter Numerator:\"))\n",
    "b= int(input(\"Enter Denominator:\"))\n",
    "if a%b==0:\n",
    "    print(\"Number :\",a,\" Is Completely Divisible By : \",b)\n",
    "else:\n",
    "    print(\"Number\",a,\" Is Not Completely Divisible By \",b)"
   ]
  },
  {
   "cell_type": "markdown",
   "metadata": {},
   "source": [
    "## 4. Calculate Volume of a sphere"
   ]
  },
  {
   "cell_type": "markdown",
   "metadata": {},
   "source": [
    "##### Write a Python program to get the volume of a sphere, please take the radius as input from user"
   ]
  },
  {
   "cell_type": "markdown",
   "metadata": {},
   "source": [
    "##### Program Console Output:\n",
    "##### Enter Radius of Sphere: 1\n",
    "###### Volume of the Sphere with Radius 1 is 4.18"
   ]
  },
  {
   "cell_type": "code",
   "execution_count": 7,
   "metadata": {},
   "outputs": [
    {
     "name": "stdout",
     "output_type": "stream",
     "text": [
      "Enter Radius Of Sphere: 11\n",
      "Volume Of The Sphere Is :  5572.453333333333  With Radius Is :  11.0\n"
     ]
    }
   ],
   "source": [
    "a=float(input(\"Enter Radius Of Sphere: \"))\n",
    "b=(4/3 * (3.14 * a**3))\n",
    "print(\"Volume Of The Sphere Is : \",b,\" With Radius Is : \",a)"
   ]
  },
  {
   "cell_type": "markdown",
   "metadata": {},
   "source": [
    "## 5. Copy string n times\n",
    "#### Write a Python program to get a string which is n (non-negative integer) copies of a given string.\n",
    "##### Program Console Output:\n",
    "##### Enter String: Hi\n",
    "###### How many copies of String you need: 4\n",
    "###### 4 Copies of Hi are HiHiHiHi"
   ]
  },
  {
   "cell_type": "code",
   "execution_count": 9,
   "metadata": {},
   "outputs": [
    {
     "name": "stdout",
     "output_type": "stream",
     "text": [
      "Enter String: Hello\n",
      "How Many Copies Of String You Need: 5\n",
      "5 Copies Of  Hello  Are  HelloHelloHelloHelloHello\n"
     ]
    }
   ],
   "source": [
    "a=str(input(\"Enter String: \"))\n",
    "b = int(input(\"How Many Copies Of String You Need: \"))\n",
    "c=a*b\n",
    "\n",
    "print(b,\"Copies Of \",a,\" Are \",c)"
   ]
  },
  {
   "cell_type": "markdown",
   "metadata": {},
   "source": [
    "## 6. Check if number is Even or Odd\n",
    "### Write a Python program to find whether a given number (accept from the user) is even or odd, print out an appropriate message to the user\n",
    "#### Program Console Output 1:\n",
    "##### Enter Number: 4\n",
    "###### 4 is Even\n",
    "#### Program Console Output 2:\n",
    "##### Enter Number: 9\n",
    "###### 9 is Odd"
   ]
  },
  {
   "cell_type": "code",
   "execution_count": 10,
   "metadata": {},
   "outputs": [
    {
     "name": "stdout",
     "output_type": "stream",
     "text": [
      "Enter Number : 9\n",
      "9 is Odd\n"
     ]
    }
   ],
   "source": [
    "a=int(input(\"Enter Number : \"))\n",
    "if a%2==0:\n",
    "    print(a,\" is Even\")\n",
    "else:\n",
    "    print(a,\"is Odd\")"
   ]
  },
  {
   "cell_type": "code",
   "execution_count": 11,
   "metadata": {},
   "outputs": [
    {
     "name": "stdout",
     "output_type": "stream",
     "text": [
      "Enter Number : 4\n",
      "4  is Even\n"
     ]
    }
   ],
   "source": [
    "a=int(input(\"Enter Number : \"))\n",
    "if a%2==0:\n",
    "    print(a,\" is Even\")\n",
    "else:\n",
    "    print(a,\"is Odd\")"
   ]
  },
  {
   "cell_type": "markdown",
   "metadata": {},
   "source": [
    "## 7. Vowel Tester\n",
    "### Write a Python program to test whether a passed letter is a vowel or not\n",
    "#### Program Console Output 1:\n",
    "##### Enter a character: A\n",
    "###### Letter A is Vowel\n",
    "#### Program Console Output 2:\n",
    "##### Enter a character: e\n",
    "###### Letter e is Vowel\n",
    "#### Program Console Output 2:\n",
    "##### Enter a character: N\n",
    "###### Letter N is not Vowel"
   ]
  },
  {
   "cell_type": "code",
   "execution_count": 12,
   "metadata": {},
   "outputs": [
    {
     "name": "stdout",
     "output_type": "stream",
     "text": [
      "Enter a Character : i\n",
      "Letter  i  is a Vowel\n"
     ]
    }
   ],
   "source": [
    "a=input(\"Enter a Character : \")\n",
    "if(a == 'a' or a == 'e' or a == 'i' or a == 'o' or a == 'u' or a == 'A' or a == 'E' or a == 'I' or a == 'O' or a == 'U'):\n",
    "    print(\"Letter \",a,\" is a Vowel\")\n",
    "else:\n",
    "    print(\"Letter \",a,\" is not a Vowel\")"
   ]
  },
  {
   "cell_type": "code",
   "execution_count": 13,
   "metadata": {},
   "outputs": [
    {
     "name": "stdout",
     "output_type": "stream",
     "text": [
      "Enter a Character : o\n",
      "Letter  o  is a Vowel\n"
     ]
    }
   ],
   "source": [
    "a=input(\"Enter a Character : \")\n",
    "if(a == 'a' or a == 'e' or a == 'i' or a == 'o' or a == 'u' or a == 'A' or a == 'E' or a == 'I' or a == 'O' or a == 'U'):\n",
    "    print(\"Letter \",a,\" is a Vowel\")\n",
    "else:\n",
    "    print(\"Letter \",a,\" is not a Vowel\")"
   ]
  },
  {
   "cell_type": "code",
   "execution_count": 14,
   "metadata": {},
   "outputs": [
    {
     "name": "stdout",
     "output_type": "stream",
     "text": [
      "Enter a Character : z\n",
      "Letter  z  is not a Vowel\n"
     ]
    }
   ],
   "source": [
    "a=input(\"Enter a Character : \")\n",
    "if(a == 'a' or a == 'e' or a == 'i' or a == 'o' or a == 'u' or a == 'A' or a == 'E' or a == 'I' or a == 'O' or a == 'U'):\n",
    "    print(\"Letter \",a,\" is a Vowel\")\n",
    "else:\n",
    "    print(\"Letter \",a,\" is not a Vowel\")"
   ]
  },
  {
   "cell_type": "markdown",
   "metadata": {},
   "source": [
    "## 8. Triangle area\n",
    "### Write a Python program that will accept the base and height of a triangle and compute the area\n",
    "###### Reference:\n",
    "https://www.mathgoodies.com/lessons/vol1/area_triangle"
   ]
  },
  {
   "cell_type": "code",
   "execution_count": 15,
   "metadata": {},
   "outputs": [
    {
     "name": "stdout",
     "output_type": "stream",
     "text": [
      "Enter Base Of Triangle : 18\n",
      "Enter Height Of Triangle : 6\n",
      "Area Of Triangle Is :  54.0\n"
     ]
    }
   ],
   "source": [
    "a=int(input(\"Enter Base Of Triangle : \"))\n",
    "b=int(input(\"Enter Height Of Triangle : \"))\n",
    "c=a*b/2\n",
    "print(\"Area Of Triangle Is : \",c)"
   ]
  },
  {
   "cell_type": "markdown",
   "metadata": {},
   "source": [
    "## 9. Calculate Interest\n",
    "### Write a Python program to compute the future value of a specified principal amount, rate of interest, and a number of years\n",
    "#### Program Console Sample 1:\n",
    "##### Please enter principal amount: 10000\n",
    "###### Please Enter Rate of interest in %: 0.1\n",
    "###### Enter number of years for investment: 5\n",
    "###### After 5 years your principal amount 10000 over an interest rate of 0.1 % will be 16105.1"
   ]
  },
  {
   "cell_type": "code",
   "execution_count": 18,
   "metadata": {},
   "outputs": [
    {
     "name": "stdout",
     "output_type": "stream",
     "text": [
      "Please Enter Principal Amount: 20000\n",
      "Please Enter Rate Of Interest In %: 3.0\n",
      "Enter Number Of Years For Investment: 2\n",
      "After  2  Years An Interest Rate Of  3.0 % Will Be  320000.0\n"
     ]
    }
   ],
   "source": [
    "a=int(input(\"Please Enter Principal Amount: \"))\n",
    "b=float(input(\"Please Enter Rate Of Interest In %: \"))\n",
    "c=int(input(\"Enter Number Of Years For Investment: \"))\n",
    "for i in range(c):\n",
    "    a = a * (1+b)\n",
    "print(\"After \",c,\" Years An Interest Rate Of \",b,\"% Will Be \",a)"
   ]
  },
  {
   "cell_type": "markdown",
   "metadata": {},
   "source": [
    "## 10. Euclidean distance\n",
    "### write a Python program to compute the distance between the points (x1, y1) and (x2, y2).\n",
    "#### Program Console Sample 1:\n",
    "###### Enter Co-ordinate for x1: 2\n",
    "###### Enter Co-ordinate for x2: 4\n",
    "###### Enter Co-ordinate for y1: 4\n",
    "###### Enter Co-ordinate for y2: 4\n",
    "###### Distance between points (2, 4) and (4, 4) is 2"
   ]
  },
  {
   "cell_type": "markdown",
   "metadata": {},
   "source": [
    "###### Reference:\n",
    "https://en.wikipedia.org/wiki/Euclidean_distance"
   ]
  },
  {
   "cell_type": "code",
   "execution_count": 19,
   "metadata": {},
   "outputs": [
    {
     "name": "stdout",
     "output_type": "stream",
     "text": [
      "Enter Co-ordinate For x1: 7\n",
      "Enter Co-ordinate For x2: 8\n",
      "Enter Co-ordinate For y1: 3\n",
      "Enter Co-ordinate For y2: 5\n",
      "Distance Between Points ( 7 ,  3 ) And ( 8 ,  5 ) is : 5.0\n"
     ]
    }
   ],
   "source": [
    "import math\n",
    "a=int(input(\"Enter Co-ordinate For x1: \"))\n",
    "b=int(input(\"Enter Co-ordinate For x2: \"))\n",
    "c=int(input(\"Enter Co-ordinate For y1: \"))\n",
    "d=int(input(\"Enter Co-ordinate For y2: \"))\n",
    "e = math.sqrt( ((a-c)**2)+((b-d)**2) )\n",
    "print(\"Distance Between Points (\",a,\", \",c,\") And (\",b,\", \",d,\") is :\",e)"
   ]
  },
  {
   "cell_type": "markdown",
   "metadata": {},
   "source": [
    "## 11. Feet to Centimeter Converter\n",
    "### Write a Python program to convert height in feet to centimetres.\n",
    "##### Program Console Sample 1:\n",
    "###### Enter Height in Feet: 5\n",
    "###### There are 152.4 Cm in 5 ft\n",
    "###### Reference:\n",
    "https://www.rapidtables.com/convert/length/feet-to-cm.html"
   ]
  },
  {
   "cell_type": "code",
   "execution_count": 20,
   "metadata": {},
   "outputs": [
    {
     "name": "stdout",
     "output_type": "stream",
     "text": [
      "Enter Your Height In Feet: 5.6\n",
      "There Are  170.688  Cm In  5.6 ft\n"
     ]
    }
   ],
   "source": [
    "a= float(input('Enter Your Height In Feet: '))\n",
    "b= 2.54\n",
    "c= a*b*12\n",
    "print(\"There Are \",c,\" Cm In \",a,\"ft\")"
   ]
  },
  {
   "cell_type": "markdown",
   "metadata": {},
   "source": [
    "## 12. BMI Calculator\n",
    "### Write a Python program to calculate body mass index\n",
    "##### Program Console Sample 1:\n",
    "###### Enter Height in Cm: 180\n",
    "###### Enter Weight in Kg: 75\n",
    "###### Your BMI is 23.15"
   ]
  },
  {
   "cell_type": "code",
   "execution_count": 21,
   "metadata": {},
   "outputs": [
    {
     "name": "stdout",
     "output_type": "stream",
     "text": [
      "Enter Height In Cm : 150\n",
      "Enter Weight In Kg : 60\n",
      "Your BMI Is :  26.666666666666668\n"
     ]
    }
   ],
   "source": [
    "a = float(input(\"Enter Height In Cm : \"))\n",
    "d=a/100\n",
    "b = float(input(\"Enter Weight In Kg : \"))\n",
    "c = b / (d*d)\n",
    "print(\"Your BMI Is : \",c)"
   ]
  },
  {
   "cell_type": "markdown",
   "metadata": {},
   "source": [
    "## 13. Sum of n Positive Integers\n",
    "### Write a python program to sum of the first n positive integers\n",
    "#### Program Console Sample 1:\n",
    "###### Enter value of n: 5\n",
    "###### Sum of n Positive integers till 5 is 15"
   ]
  },
  {
   "cell_type": "code",
   "execution_count": 22,
   "metadata": {},
   "outputs": [
    {
     "name": "stdout",
     "output_type": "stream",
     "text": [
      "Enter Value Of n : 5\n",
      "Sum Of n Positive Integers Till  5  Is :  15.0\n"
     ]
    }
   ],
   "source": [
    "a = int(input(\"Enter Value Of n : \"))\n",
    "b = (a * (a + 1)) / 2\n",
    "print(\"Sum Of n Positive Integers Till \",a,\" Is : \",b)"
   ]
  },
  {
   "cell_type": "markdown",
   "metadata": {},
   "source": [
    "## 14. Digits Sum of a Number\n",
    "### Write a Python program to calculate the sum of the digits in an integer\n",
    "#### Program Console Sample 1:\n",
    "##### Enter a number: 15\n",
    "###### Sum of 1 + 5 is 6\n",
    "#### Program Console Sample 2:\n",
    "##### Enter a number: 1234\n",
    "###### Sum of 1 + 2 + 3 + 4 is 10"
   ]
  },
  {
   "cell_type": "code",
   "execution_count": 23,
   "metadata": {},
   "outputs": [
    {
     "name": "stdout",
     "output_type": "stream",
     "text": [
      "Enter A Number:50\n",
      "The Total Sum Of Digits Is: 5\n"
     ]
    }
   ],
   "source": [
    "n=int(input(\"Enter A Number:\"))\n",
    "tot=0\n",
    "while(n>0):\n",
    "    dig=n%10\n",
    "    tot=tot+dig\n",
    "    n=n//10\n",
    "print(\"The Total Sum Of Digits Is:\",tot)"
   ]
  }
 ],
 "metadata": {
  "kernelspec": {
   "display_name": "Python 3",
   "language": "python",
   "name": "python3"
  },
  "language_info": {
   "codemirror_mode": {
    "name": "ipython",
    "version": 3
   },
   "file_extension": ".py",
   "mimetype": "text/x-python",
   "name": "python",
   "nbconvert_exporter": "python",
   "pygments_lexer": "ipython3",
   "version": "3.7.3"
  }
 },
 "nbformat": 4,
 "nbformat_minor": 2
}
